{
 "cells": [
  {
   "cell_type": "code",
   "execution_count": 34,
   "metadata": {
    "vscode": {
     "languageId": "plaintext"
    }
   },
   "outputs": [],
   "source": [
    "import pandas as pd\n",
    "import numpy as np\n",
    "import duckdb\n",
    "import os\n",
    "import glob\n",
    "from memory_limits import duck_options\n",
    "from datetime import datetime\n",
    "from pathlib import Path\n"
   ]
  },
  {
   "cell_type": "code",
   "execution_count": 36,
   "metadata": {},
   "outputs": [
    {
     "name": "stdout",
     "output_type": "stream",
     "text": [
      "-1 -1 270210306048\n"
     ]
    }
   ],
   "source": [
    "data_dir = Path(\"../data\")\n",
    "\n",
    "mlhd_path = data_dir / \"solo-artist-count/chunk.parquet\"\n",
    "musicbrainz_path = data_dir / \"musicbrainz.db\"\n",
    "mlhd_ids_path = data_dir / \"mlhd_ids.parquet\"\n",
    "\n",
    "\n",
    "conn = duckdb.connect(config=duck_options())"
   ]
  },
  {
   "cell_type": "code",
   "execution_count": 37,
   "metadata": {},
   "outputs": [
    {
     "data": {
      "text/plain": [
       "<duckdb.duckdb.DuckDBPyConnection at 0x7cd7f2e46f30>"
      ]
     },
     "execution_count": 37,
     "metadata": {},
     "output_type": "execute_result"
    }
   ],
   "source": [
    "conn.execute(f\"\"\"create temp table mlhd_ids as \n",
    "                select * from read_parquet('{mlhd_ids_path}') \n",
    "                ORDER BY entity_uuid\"\"\")"
   ]
  },
  {
   "cell_type": "code",
   "execution_count": 38,
   "metadata": {},
   "outputs": [
    {
     "data": {
      "text/plain": [
       "<duckdb.duckdb.DuckDBPyConnection at 0x7cd7f2e46f30>"
      ]
     },
     "execution_count": 38,
     "metadata": {},
     "output_type": "execute_result"
    }
   ],
   "source": [
    "conn.execute(f\"attach '{musicbrainz_path}' as musicbrainz\")"
   ]
  },
  {
   "cell_type": "code",
   "execution_count": 39,
   "metadata": {},
   "outputs": [
    {
     "data": {
      "text/plain": [
       "<duckdb.duckdb.DuckDBPyConnection at 0x7cd7f2e46f30>"
      ]
     },
     "execution_count": 39,
     "metadata": {},
     "output_type": "execute_result"
    }
   ],
   "source": [
    "# map musicbrainz to mlhd_ids\n",
    "conn.execute(f\"\"\"\n",
    "    create temp table artists as\n",
    "    SELECT \n",
    "        artist_uuid.id_num AS artist_id,\n",
    "        mb_artist.gender AS gender,\n",
    "        mb_artist.type AS type\n",
    "    FROM musicbrainz.mb_artist as mb_artist\n",
    "    RIGHT JOIN (SELECT * FROM mlhd_ids WHERE entity_type = 'artist_ids') \n",
    "                 AS artist_uuid\n",
    "        ON artist_uuid.entity_uuid = mb_artist.artist_id\n",
    "        \"\"\")"
   ]
  },
  {
   "cell_type": "code",
   "execution_count": 40,
   "metadata": {},
   "outputs": [
    {
     "data": {
      "text/plain": [
       "<duckdb.duckdb.DuckDBPyConnection at 0x7cd7f2e46f30>"
      ]
     },
     "execution_count": 40,
     "metadata": {},
     "output_type": "execute_result"
    }
   ],
   "source": [
    "conn.execute(\"detach musicbrainz\")"
   ]
  },
  {
   "cell_type": "code",
   "execution_count": 41,
   "metadata": {},
   "outputs": [
    {
     "data": {
      "application/vnd.jupyter.widget-view+json": {
       "model_id": "a69206a64a654d77aa2efd4347871468",
       "version_major": 2,
       "version_minor": 0
      },
      "text/plain": [
       "FloatProgress(value=0.0, layout=Layout(width='auto'), style=ProgressStyle(bar_color='black'))"
      ]
     },
     "metadata": {},
     "output_type": "display_data"
    },
    {
     "data": {
      "text/plain": [
       "<duckdb.duckdb.DuckDBPyConnection at 0x7cd7f2e46f30>"
      ]
     },
     "execution_count": 41,
     "metadata": {},
     "output_type": "execute_result"
    }
   ],
   "source": [
    "# read training data\n",
    "conn.execute(f\"\"\"\n",
    "        create or replace table mlhd_train as \n",
    "        with sorted_data as(\n",
    "        select *, percent_rank() over (order by last_time) as percentile\n",
    "        from read_parquet('{mlhd_path}'))\n",
    "        \n",
    "        select user_id, artist_id, count,\n",
    "            case\n",
    "                when percentile >= 0.8 then 'test'\n",
    "                else 'train'\n",
    "            end as label\n",
    "        from sorted_data \"\"\")\n",
    "\n"
   ]
  },
  {
   "cell_type": "code",
   "execution_count": 42,
   "metadata": {},
   "outputs": [
    {
     "data": {
      "text/plain": [
       "<duckdb.duckdb.DuckDBPyConnection at 0x7cd7f2e46f30>"
      ]
     },
     "execution_count": 42,
     "metadata": {},
     "output_type": "execute_result"
    }
   ],
   "source": [
    "conn.execute(\"\"\"create or replace table mlhd_train\n",
    "             as select user_id, artist_id, count,\n",
    "             from mlhd_train\n",
    "             where label='train'\n",
    "             \"\"\")"
   ]
  },
  {
   "cell_type": "code",
   "execution_count": 43,
   "metadata": {},
   "outputs": [
    {
     "name": "stdout",
     "output_type": "stream",
     "text": [
      "Number rows deleted for artists with <15 total listens: 41111\n"
     ]
    },
    {
     "data": {
      "application/vnd.jupyter.widget-view+json": {
       "model_id": "8672b2a77036461a9fbb2c7dfcbf8df9",
       "version_major": 2,
       "version_minor": 0
      },
      "text/plain": [
       "FloatProgress(value=0.0, layout=Layout(width='auto'), style=ProgressStyle(bar_color='black'))"
      ]
     },
     "metadata": {},
     "output_type": "display_data"
    },
    {
     "name": "stdout",
     "output_type": "stream",
     "text": [
      "Number of rows deleted for users with <15 artists : 202051\n"
     ]
    }
   ],
   "source": [
    "# preprocessing on train\n",
    "\n",
    "\n",
    "# exclude artists with fewer than 15 total listens across all users\n",
    "del_artist_unpop = conn.execute(\"\"\" \n",
    "    DELETE FROM mlhd_train\n",
    "    WHERE artist_id NOT in (\n",
    "        SELECT artist_id\n",
    "        FROM mlhd_train\n",
    "        GROUP BY artist_id\n",
    "        HAVING SUM(count) >= 15\n",
    "    );\n",
    "\"\"\")\n",
    "deleted_rows = del_artist_unpop.fetchall()[0][0]\n",
    "print(f\"Number rows deleted for artists with <15 total listens: {deleted_rows}\")\n",
    "\n",
    "# exclude users with fewer than 15 distinct artists in their data\n",
    "del_user_artist = conn.execute(\"\"\"\n",
    "    DELETE FROM mlhd_train\n",
    "    WHERE user_id NOT IN (\n",
    "        SELECT user_id\n",
    "        FROM mlhd_train\n",
    "        GROUP BY user_id\n",
    "        HAVING COUNT(DISTINCT artist_id) >= 15\n",
    "    );\n",
    "\"\"\")\n",
    "\n",
    "deleted_rows = del_user_artist.fetchall()[0][0]\n",
    "print(f\"Number of rows deleted for users with <15 artists : {deleted_rows}\")"
   ]
  },
  {
   "cell_type": "code",
   "execution_count": 44,
   "metadata": {},
   "outputs": [
    {
     "data": {
      "application/vnd.jupyter.widget-view+json": {
       "model_id": "e947c60b7f7e4bdcb051ed0a9b2438b4",
       "version_major": 2,
       "version_minor": 0
      },
      "text/plain": [
       "FloatProgress(value=0.0, layout=Layout(width='auto'), style=ProgressStyle(bar_color='black'))"
      ]
     },
     "metadata": {},
     "output_type": "display_data"
    },
    {
     "data": {
      "text/html": [
       "<div>\n",
       "<style scoped>\n",
       "    .dataframe tbody tr th:only-of-type {\n",
       "        vertical-align: middle;\n",
       "    }\n",
       "\n",
       "    .dataframe tbody tr th {\n",
       "        vertical-align: top;\n",
       "    }\n",
       "\n",
       "    .dataframe thead th {\n",
       "        text-align: right;\n",
       "    }\n",
       "</style>\n",
       "<table border=\"1\" class=\"dataframe\">\n",
       "  <thead>\n",
       "    <tr style=\"text-align: right;\">\n",
       "      <th></th>\n",
       "      <th>user_id</th>\n",
       "      <th>artist_id</th>\n",
       "      <th>count</th>\n",
       "    </tr>\n",
       "  </thead>\n",
       "  <tbody>\n",
       "    <tr>\n",
       "      <th>0</th>\n",
       "      <td>100474387</td>\n",
       "      <td>200106378</td>\n",
       "      <td>1</td>\n",
       "    </tr>\n",
       "    <tr>\n",
       "      <th>1</th>\n",
       "      <td>100083599</td>\n",
       "      <td>200233107</td>\n",
       "      <td>1</td>\n",
       "    </tr>\n",
       "    <tr>\n",
       "      <th>2</th>\n",
       "      <td>100102371</td>\n",
       "      <td>200286912</td>\n",
       "      <td>1</td>\n",
       "    </tr>\n",
       "    <tr>\n",
       "      <th>3</th>\n",
       "      <td>100141357</td>\n",
       "      <td>200123173</td>\n",
       "      <td>1</td>\n",
       "    </tr>\n",
       "    <tr>\n",
       "      <th>4</th>\n",
       "      <td>100325357</td>\n",
       "      <td>200286890</td>\n",
       "      <td>1</td>\n",
       "    </tr>\n",
       "    <tr>\n",
       "      <th>...</th>\n",
       "      <td>...</td>\n",
       "      <td>...</td>\n",
       "      <td>...</td>\n",
       "    </tr>\n",
       "    <tr>\n",
       "      <th>161377806</th>\n",
       "      <td>100167238</td>\n",
       "      <td>200248040</td>\n",
       "      <td>1</td>\n",
       "    </tr>\n",
       "    <tr>\n",
       "      <th>161377807</th>\n",
       "      <td>100534006</td>\n",
       "      <td>200010460</td>\n",
       "      <td>62</td>\n",
       "    </tr>\n",
       "    <tr>\n",
       "      <th>161377808</th>\n",
       "      <td>100234586</td>\n",
       "      <td>200017705</td>\n",
       "      <td>140</td>\n",
       "    </tr>\n",
       "    <tr>\n",
       "      <th>161377809</th>\n",
       "      <td>100327002</td>\n",
       "      <td>200390334</td>\n",
       "      <td>1</td>\n",
       "    </tr>\n",
       "    <tr>\n",
       "      <th>161377810</th>\n",
       "      <td>100528306</td>\n",
       "      <td>200237248</td>\n",
       "      <td>249</td>\n",
       "    </tr>\n",
       "  </tbody>\n",
       "</table>\n",
       "<p>161377811 rows × 3 columns</p>\n",
       "</div>"
      ],
      "text/plain": [
       "             user_id  artist_id  count\n",
       "0          100474387  200106378      1\n",
       "1          100083599  200233107      1\n",
       "2          100102371  200286912      1\n",
       "3          100141357  200123173      1\n",
       "4          100325357  200286890      1\n",
       "...              ...        ...    ...\n",
       "161377806  100167238  200248040      1\n",
       "161377807  100534006  200010460     62\n",
       "161377808  100234586  200017705    140\n",
       "161377809  100327002  200390334      1\n",
       "161377810  100528306  200237248    249\n",
       "\n",
       "[161377811 rows x 3 columns]"
      ]
     },
     "execution_count": 44,
     "metadata": {},
     "output_type": "execute_result"
    }
   ],
   "source": [
    "conn.execute(\"select * from mlhd_train\").fetchdf()"
   ]
  }
 ],
 "metadata": {
  "kernelspec": {
   "display_name": "Python 3 (ipykernel)",
   "language": "python",
   "name": "python3"
  },
  "language_info": {
   "codemirror_mode": {
    "name": "ipython",
    "version": 3
   },
   "file_extension": ".py",
   "mimetype": "text/x-python",
   "name": "python",
   "nbconvert_exporter": "python",
   "pygments_lexer": "ipython3",
   "version": "3.11.10"
  }
 },
 "nbformat": 4,
 "nbformat_minor": 4
}
