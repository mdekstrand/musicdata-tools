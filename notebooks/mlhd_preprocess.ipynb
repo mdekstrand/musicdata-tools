{
 "cells": [
  {
   "cell_type": "code",
   "execution_count": 1,
   "metadata": {
    "vscode": {
     "languageId": "plaintext"
    }
   },
   "outputs": [],
   "source": [
    "import pandas as pd\n",
    "import numpy as np\n",
    "import duckdb\n",
    "import os\n",
    "import glob\n",
    "from memory_limits import duck_options\n",
    "from datetime import datetime\n",
    "from pathlib import Path\n"
   ]
  },
  {
   "cell_type": "code",
   "execution_count": 2,
   "metadata": {},
   "outputs": [
    {
     "name": "stdout",
     "output_type": "stream",
     "text": [
      "-1 -1 270210306048\n",
      "-1 -1 270210306048\n"
     ]
    }
   ],
   "source": [
    "data_dir = Path(\"../data\")\n",
    "\n",
    "mlhd_path = data_dir / \"mlhdv2\"\n",
    "musicbrainz_path = data_dir / \"musicbrainz.db\"\n",
    "mlhd_ids_path = data_dir / \"mlhd_ids.parquet\"\n",
    "\n",
    "\n",
    "conn = duckdb.connect(config=duck_options())\n",
    "brainz_conn = duckdb.connect(musicbrainz_path, config=duck_options())"
   ]
  },
  {
   "cell_type": "code",
   "execution_count": 3,
   "metadata": {},
   "outputs": [
    {
     "data": {
      "text/plain": [
       "<duckdb.duckdb.DuckDBPyConnection at 0x78dbccdb6330>"
      ]
     },
     "execution_count": 3,
     "metadata": {},
     "output_type": "execute_result"
    }
   ],
   "source": [
    "conn.execute(f\"\"\"create temp table mlhd_ids as \n",
    "                select * from read_parquet('{mlhd_ids_path}') \n",
    "                ORDER BY entity_uuid\"\"\")"
   ]
  },
  {
   "cell_type": "code",
   "execution_count": 4,
   "metadata": {},
   "outputs": [
    {
     "data": {
      "text/plain": [
       "<duckdb.duckdb.DuckDBPyConnection at 0x78dbccdb6330>"
      ]
     },
     "execution_count": 4,
     "metadata": {},
     "output_type": "execute_result"
    }
   ],
   "source": [
    "conn.execute(f\"attach '{musicbrainz_path}' as musicbrainz\")"
   ]
  },
  {
   "cell_type": "code",
   "execution_count": 5,
   "metadata": {},
   "outputs": [
    {
     "data": {
      "text/plain": [
       "<duckdb.duckdb.DuckDBPyConnection at 0x78dbccdb6330>"
      ]
     },
     "execution_count": 5,
     "metadata": {},
     "output_type": "execute_result"
    }
   ],
   "source": [
    "# map musicbrainz to mlhd_ids\n",
    "conn.execute(f\"\"\"\n",
    "    create temp table artists as\n",
    "    SELECT \n",
    "        artist_uuid.id_num AS artist_id,\n",
    "        mb_artist.gender AS gender,\n",
    "        mb_artist.type AS type\n",
    "    FROM musicbrainz.mb_artist as mb_artist\n",
    "    RIGHT JOIN (SELECT * FROM mlhd_ids WHERE entity_type = 'artist_ids') \n",
    "                 AS artist_uuid\n",
    "        ON artist_uuid.entity_uuid = mb_artist.artist_id\n",
    "        \"\"\")"
   ]
  },
  {
   "cell_type": "code",
   "execution_count": 6,
   "metadata": {},
   "outputs": [
    {
     "data": {
      "text/plain": [
       "<duckdb.duckdb.DuckDBPyConnection at 0x78dbccdb6330>"
      ]
     },
     "execution_count": 6,
     "metadata": {},
     "output_type": "execute_result"
    }
   ],
   "source": [
    "conn.execute(\"detach musicbrainz\")"
   ]
  },
  {
   "cell_type": "code",
   "execution_count": null,
   "metadata": {},
   "outputs": [],
   "source": [
    "# read training data\n",
    "conn.execute(f\"\"\"create or replace temp mlhd_train as \n",
    "                select * from read_parquet('{mlhd_path}/*.parquet')\n",
    "                order by timestamp asc\n",
    "                limit (select CAST(count(*) * 0.8 as integer) from read_parquet('{mlhd_path}/*.parquet'))\n",
    "\"\"\")"
   ]
  },
  {
   "cell_type": "code",
   "execution_count": null,
   "metadata": {},
   "outputs": [],
   "source": [
    "# preprocessing on train\n",
    "\n",
    "\n",
    "# exclude artists with fewer than 15 total listens across all users\n",
    "del_artist_unpop = conn.execute(\"\"\"\n",
    "    DELETE FROM mlhd_train\n",
    "    WHERE artist_id NOT IN (\n",
    "        SELECT artist_id\n",
    "        FROM mlhd_train\n",
    "        GROUP BY artist_id\n",
    "        HAVING COUNT(*) >= 15\n",
    "    );\n",
    "\"\"\")\n",
    "deleted_rows = del_artist_unpop.fetchall()[0][0]\n",
    "print(f\"Number rows deleted for artists with <15 total listens: {deleted_rows}\")\n",
    "\n",
    "# exclude users with fewer than 15 distinct artists in their data\n",
    "del_user_artist = conn.execute(\"\"\"\n",
    "    DELETE FROM mlhd_train\n",
    "    WHERE user_id NOT IN (\n",
    "        SELECT user_id, artist_id\n",
    "        FROM mlhd_train,\n",
    "        GROUP BY user_id\n",
    "        HAVING COUNT(DISTINCT artist_id) >= 15\n",
    "    );\n",
    "\"\"\")\n",
    "\n",
    "deleted_rows = del_user_artist.fetchall()[0][0]\n",
    "print(f\"Number of rows deleted for users with <15 artists : {deleted_rows}\")"
   ]
  },
  {
   "cell_type": "code",
   "execution_count": 1,
   "metadata": {},
   "outputs": [
    {
     "ename": "NameError",
     "evalue": "name 'conn' is not defined",
     "output_type": "error",
     "traceback": [
      "\u001b[0;31m---------------------------------------------------------------------------\u001b[0m",
      "\u001b[0;31mNameError\u001b[0m                                 Traceback (most recent call last)",
      "Cell \u001b[0;32mIn[1], line 1\u001b[0m\n\u001b[0;32m----> 1\u001b[0m \u001b[43mconn\u001b[49m\u001b[38;5;241m.\u001b[39mclose()\n",
      "\u001b[0;31mNameError\u001b[0m: name 'conn' is not defined"
     ]
    }
   ],
   "source": [
    "conn.close()"
   ]
  }
 ],
 "metadata": {
  "kernelspec": {
   "display_name": "Python 3 (ipykernel)",
   "language": "python",
   "name": "python3"
  },
  "language_info": {
   "codemirror_mode": {
    "name": "ipython",
    "version": 3
   },
   "file_extension": ".py",
   "mimetype": "text/x-python",
   "name": "python",
   "nbconvert_exporter": "python",
   "pygments_lexer": "ipython3",
   "version": "3.11.10"
  }
 },
 "nbformat": 4,
 "nbformat_minor": 4
}
