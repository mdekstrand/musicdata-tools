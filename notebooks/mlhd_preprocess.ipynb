{
 "cells": [
  {
   "cell_type": "code",
   "execution_count": 2,
   "metadata": {
    "vscode": {
     "languageId": "plaintext"
    }
   },
   "outputs": [],
   "source": [
    "import pandas as pd\n",
    "import numpy as np\n",
    "import duckdb\n",
    "import os\n",
    "import glob\n",
    "from memory_limits import duck_options\n",
    "from datetime import datetime"
   ]
  },
  {
   "cell_type": "code",
   "execution_count": 3,
   "metadata": {},
   "outputs": [
    {
     "name": "stdout",
     "output_type": "stream",
     "text": [
      "1136091599.0\n",
      "-1 -1 236564234240\n",
      "-1 -1 236564234240\n"
     ]
    },
    {
     "data": {
      "application/vnd.jupyter.widget-view+json": {
       "model_id": "4e6c850a4db04d2186b67c43e1fd41a3",
       "version_major": 2,
       "version_minor": 0
      },
      "text/plain": [
       "FloatProgress(value=0.0, layout=Layout(width='auto'), style=ProgressStyle(bar_color='black'))"
      ]
     },
     "metadata": {},
     "output_type": "display_data"
    }
   ],
   "source": [
    "mlhd_path = '../data/mlhd/*/*.parquet'\n",
    "musicbrainz_path = '../data/musicbrainz.db'\n",
    "mlhd_ids_path = '../data/mlhd_ids.parquet'\n",
    "\n",
    "data_start = datetime(2005, 12, 31, 23, 59, 59).timestamp()\n",
    "data_end = datetime(2015, 1, 1, 0, 0, 1).timestamp()\n",
    "print(data_start)\n",
    "\n",
    "conn = duckdb.connect(config=duck_options())\n",
    "brainz_conn = duckdb.connect(musicbrainz_path, config=duck_options())\n",
    "mlhd = conn.execute(f\"select count(*) from read_parquet('{mlhd_path}') where array_length(artist_ids)=1 and timestamp<{data_end} and timestamp>{data_start} \")\n",
    "# OR timestamp>{data_end} OR timestamp<{data_start}"
   ]
  },
  {
   "cell_type": "code",
   "execution_count": 4,
   "metadata": {},
   "outputs": [
    {
     "name": "stdout",
     "output_type": "stream",
     "text": [
      "   count_star()\n",
      "0   20462062311\n"
     ]
    }
   ],
   "source": [
    "count = mlhd.fetchdf()\n",
    "print(count)\n",
    "# single artist data = 20,658,034,565\n",
    "# single artist data 2006-1-1 to 2014-12-31 = 20,462,062,311"
   ]
  },
  {
   "cell_type": "code",
   "execution_count": 5,
   "metadata": {},
   "outputs": [
    {
     "data": {
      "text/plain": [
       "[('mlhd_plays',)]"
      ]
     },
     "execution_count": 5,
     "metadata": {},
     "output_type": "execute_result"
    }
   ],
   "source": [
    "mlhd_conn.execute(\"SHOW TABLES\").fetchall()"
   ]
  },
  {
   "cell_type": "code",
   "execution_count": 4,
   "metadata": {},
   "outputs": [
    {
     "data": {
      "text/html": [
       "<div>\n",
       "<style scoped>\n",
       "    .dataframe tbody tr th:only-of-type {\n",
       "        vertical-align: middle;\n",
       "    }\n",
       "\n",
       "    .dataframe tbody tr th {\n",
       "        vertical-align: top;\n",
       "    }\n",
       "\n",
       "    .dataframe thead th {\n",
       "        text-align: right;\n",
       "    }\n",
       "</style>\n",
       "<table border=\"1\" class=\"dataframe\">\n",
       "  <thead>\n",
       "    <tr style=\"text-align: right;\">\n",
       "      <th></th>\n",
       "      <th>column_name</th>\n",
       "      <th>column_type</th>\n",
       "      <th>null</th>\n",
       "      <th>key</th>\n",
       "      <th>default</th>\n",
       "      <th>extra</th>\n",
       "    </tr>\n",
       "  </thead>\n",
       "  <tbody>\n",
       "    <tr>\n",
       "      <th>0</th>\n",
       "      <td>user_id</td>\n",
       "      <td>UUID</td>\n",
       "      <td>YES</td>\n",
       "      <td>None</td>\n",
       "      <td>None</td>\n",
       "      <td>None</td>\n",
       "    </tr>\n",
       "    <tr>\n",
       "      <th>1</th>\n",
       "      <td>timestamp</td>\n",
       "      <td>BIGINT</td>\n",
       "      <td>YES</td>\n",
       "      <td>None</td>\n",
       "      <td>None</td>\n",
       "      <td>None</td>\n",
       "    </tr>\n",
       "    <tr>\n",
       "      <th>2</th>\n",
       "      <td>artist_ids</td>\n",
       "      <td>UUID[]</td>\n",
       "      <td>YES</td>\n",
       "      <td>None</td>\n",
       "      <td>None</td>\n",
       "      <td>None</td>\n",
       "    </tr>\n",
       "    <tr>\n",
       "      <th>3</th>\n",
       "      <td>release_id</td>\n",
       "      <td>UUID</td>\n",
       "      <td>YES</td>\n",
       "      <td>None</td>\n",
       "      <td>None</td>\n",
       "      <td>None</td>\n",
       "    </tr>\n",
       "    <tr>\n",
       "      <th>4</th>\n",
       "      <td>rec_id</td>\n",
       "      <td>UUID</td>\n",
       "      <td>YES</td>\n",
       "      <td>None</td>\n",
       "      <td>None</td>\n",
       "      <td>None</td>\n",
       "    </tr>\n",
       "  </tbody>\n",
       "</table>\n",
       "</div>"
      ],
      "text/plain": [
       "  column_name column_type null   key default extra\n",
       "0     user_id        UUID  YES  None    None  None\n",
       "1   timestamp      BIGINT  YES  None    None  None\n",
       "2  artist_ids      UUID[]  YES  None    None  None\n",
       "3  release_id        UUID  YES  None    None  None\n",
       "4      rec_id        UUID  YES  None    None  None"
      ]
     },
     "execution_count": 4,
     "metadata": {},
     "output_type": "execute_result"
    }
   ],
   "source": [
    "mlhd_conn.execute(f\"DESCRIBE SELECT * FROM mlhd_plays\").fetchdf()"
   ]
  },
  {
   "cell_type": "code",
   "execution_count": 3,
   "metadata": {},
   "outputs": [
    {
     "data": {
      "application/vnd.jupyter.widget-view+json": {
       "model_id": "f66ff36caa0b486aa9d639a61a61dd7e",
       "version_major": 2,
       "version_minor": 0
      },
      "text/plain": [
       "FloatProgress(value=0.0, layout=Layout(width='auto'), style=ProgressStyle(bar_color='black'))"
      ]
     },
     "metadata": {},
     "output_type": "display_data"
    },
    {
     "data": {
      "text/html": [
       "<div>\n",
       "<style scoped>\n",
       "    .dataframe tbody tr th:only-of-type {\n",
       "        vertical-align: middle;\n",
       "    }\n",
       "\n",
       "    .dataframe tbody tr th {\n",
       "        vertical-align: top;\n",
       "    }\n",
       "\n",
       "    .dataframe thead th {\n",
       "        text-align: right;\n",
       "    }\n",
       "</style>\n",
       "<table border=\"1\" class=\"dataframe\">\n",
       "  <thead>\n",
       "    <tr style=\"text-align: right;\">\n",
       "      <th></th>\n",
       "      <th>year</th>\n",
       "      <th>row_count</th>\n",
       "    </tr>\n",
       "  </thead>\n",
       "  <tbody>\n",
       "    <tr>\n",
       "      <th>0</th>\n",
       "      <td>1970</td>\n",
       "      <td>20658034565</td>\n",
       "    </tr>\n",
       "  </tbody>\n",
       "</table>\n",
       "</div>"
      ],
      "text/plain": [
       "   year    row_count\n",
       "0  1970  20658034565"
      ]
     },
     "execution_count": 3,
     "metadata": {},
     "output_type": "execute_result"
    }
   ],
   "source": [
    "#check the year\n",
    "date_query = f\"\"\"SELECT EXTRACT(YEAR FROM TO_TIMESTAMP(timestamp / 1000)) AS year,\n",
    "       COUNT(*) AS row_count\n",
    "FROM mlhd_plays\n",
    "GROUP BY year\n",
    "ORDER BY year; \"\"\"\n",
    "\n",
    "# mlhd_conn.execute(date_query).fetchdf()\n",
    "#output:[(1970, 21079612671)]"
   ]
  },
  {
   "cell_type": "code",
   "execution_count": 4,
   "metadata": {},
   "outputs": [
    {
     "data": {
      "text/plain": [
       "[(0,)]"
      ]
     },
     "execution_count": 4,
     "metadata": {},
     "output_type": "execute_result"
    }
   ],
   "source": [
    "# check null user or rec id in mlhd data\n",
    "columns_query = f\"\"\"\n",
    "SELECT COUNT(*)\n",
    "FROM mlhd_plays\n",
    "WHERE user_id IS NULL OR rec_id IS NULL LIMIT 5\n",
    "\"\"\"\n",
    "\n",
    "# mlhd_conn.execute(columns_query).fetchall()\n",
    "#output: [(0,)]"
   ]
  },
  {
   "cell_type": "code",
   "execution_count": null,
   "metadata": {},
   "outputs": [],
   "source": [
    "# preprocessing on the whole data\n",
    "\n",
    "# conn.execute(\"\"\"\n",
    "#     DELETE FROM mlhd_plays\n",
    "#     WHERE user_id IS NULL OR artist_id IS NULL\n",
    "#     OR strftime('%Y', timestamp) NOT BETWEEN '1970' AND '2024';\n",
    "# \"\"\")\n",
    "\n",
    "# exclude arists without gender information\n",
    "del_artist = conn.execute(\"\"\"\n",
    "    DELETE FROM mlhd_plays\n",
    "    WHERE artist_ids[1] NOT IN (\n",
    "        SELECT artist_id\n",
    "        FROM '{musicbrainz_path}'.mb_artist\n",
    "    );\n",
    "\"\"\")\n",
    "\n",
    "deleted_rows = del_artist.fetchall()[0][0]\n",
    "print(f\"Number of rows deleted for arists without gender information: {deleted_rows}\")"
   ]
  },
  {
   "cell_type": "code",
   "execution_count": null,
   "metadata": {},
   "outputs": [],
   "source": [
    "# preprocessing on train\n",
    "\n",
    "deleted_rows = del_user.fetchall()[0][0]\n",
    "print(f\"Number of rows deleted for users with <5 interactions: {deleted_rows}\")\n",
    "\n",
    "# exclude artists with fewer than 15 total listens across all users\n",
    "del_artist_unpop = conn.execute(\"\"\"\n",
    "    DELETE FROM mlhd_plays\n",
    "    WHERE artist_ids[1] NOT IN (\n",
    "        SELECT UNNEST(artist_ids) AS artist_id\n",
    "        FROM mlhd_plays\n",
    "        GROUP BY artist_id\n",
    "        HAVING COUNT(*) >= 15\n",
    "    );\n",
    "\"\"\")\n",
    "deleted_rows = del_artist_unpop.fetchall()[0][0]\n",
    "print(f\"Number rows deleted for artists with <15 total listens: {deleted_rows}\")\n",
    "\n",
    "# exclude users with fewer than 15 distinct artists in their data\n",
    "del_user_artist = conn.execute(\"\"\"\n",
    "    DELETE FROM mlhd_plays\n",
    "    WHERE user_id NOT IN (\n",
    "        SELECT user_id FROM mlhd_plays,\n",
    "        UNNEST(artist_ids) AS artist_id\n",
    "        GROUP BY user_id\n",
    "        HAVING COUNT(DISTINCT artist_id) >= 15\n",
    "    );\n",
    "\"\"\")\n",
    "\n",
    "deleted_rows = del_user_artist.fetchall()[0][0]\n",
    "print(f\"Number of rows deleted for users with <15 artists : {deleted_rows}\")\n",
    "\n",
    "conn.close()"
   ]
  },
  {
   "cell_type": "code",
   "execution_count": null,
   "metadata": {},
   "outputs": [],
   "source": [
    "processed_data = f\"\"\"\n",
    "select(*) from read_parquet('{mlhd_path}') \n",
    "where array_length(artist_ids)=1 \n",
    "and {data_start}<timestamp<{data_end}\n",
    "left join read_parquet('{mlhd_ids_path}') \n",
    "on artist_id\n",
    "and artist_ids[1] NOT IN (\n",
    "        SELECT artist_id\n",
    "        FROM '{musicbrainz_path}'.mb_artist\n",
    "    );\n",
    "\"\"\"\n"
   ]
  }
 ],
 "metadata": {
  "kernelspec": {
   "display_name": "Python 3 (ipykernel)",
   "language": "python",
   "name": "python3"
  },
  "language_info": {
   "codemirror_mode": {
    "name": "ipython",
    "version": 3
   },
   "file_extension": ".py",
   "mimetype": "text/x-python",
   "name": "python",
   "nbconvert_exporter": "python",
   "pygments_lexer": "ipython3",
   "version": "3.11.10"
  }
 },
 "nbformat": 4,
 "nbformat_minor": 4
}
